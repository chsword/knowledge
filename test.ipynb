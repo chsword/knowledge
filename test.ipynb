{
 "metadata": {
  "name": "test"
 },
 "nbformat": 3,
 "nbformat_minor": 0,
 "worksheets": [
  {
   "cells": [
    {
     "cell_type": "code",
     "collapsed": false,
     "input": [
      "access_token = 'S=s1:U=41d1e:E=14a57765c79:C=142ffc5307b:P=1cd:A=en-devtoken:V=2:H=07548db91e6fa51e9bcb42f024a6db82'"
     ],
     "language": "python",
     "metadata": {},
     "outputs": [],
     "prompt_number": 7
    },
    {
     "cell_type": "code",
     "collapsed": false,
     "input": [
      "from evernote.api.client import EvernoteClient\n",
      "import evernote.edam.notestore.ttypes as StoreTypes\n",
      "import evernote.edam.type.ttypes as Types\n",
      "from datetime import datetime\n",
      "import sys"
     ],
     "language": "python",
     "metadata": {},
     "outputs": [],
     "prompt_number": 77
    },
    {
     "cell_type": "code",
     "collapsed": false,
     "input": [
      "client = EvernoteClient(token=access_token, sandbox=True)"
     ],
     "language": "python",
     "metadata": {},
     "outputs": [],
     "prompt_number": 9
    },
    {
     "cell_type": "code",
     "collapsed": false,
     "input": [
      "note_store = client.get_note_store()"
     ],
     "language": "python",
     "metadata": {},
     "outputs": [],
     "prompt_number": 10
    },
    {
     "cell_type": "code",
     "collapsed": false,
     "input": [
      "local_status = StoreTypes.SyncState(updateCount=0)\n",
      "server_status = note_store.getSyncState()"
     ],
     "language": "python",
     "metadata": {},
     "outputs": [],
     "prompt_number": 51
    },
    {
     "cell_type": "code",
     "collapsed": false,
     "input": [
      "server_status, local_status"
     ],
     "language": "python",
     "metadata": {},
     "outputs": [
      {
       "output_type": "pyout",
       "prompt_number": 52,
       "text": [
        "(SyncState(uploaded=316, fullSyncBefore=1354453729000, updateCount=60, currentTime=1387272362373),\n",
        " SyncState(uploaded=None, fullSyncBefore=None, updateCount=0, currentTime=None))"
       ]
      }
     ],
     "prompt_number": 52
    },
    {
     "cell_type": "code",
     "collapsed": false,
     "input": [
      "chunk_filter = StoreTypes.SyncChunkFilter(includeNotes=True, includeNoteResources=True)"
     ],
     "language": "python",
     "metadata": {},
     "outputs": [],
     "prompt_number": 53
    },
    {
     "cell_type": "code",
     "collapsed": false,
     "input": [
      "def updateLocalNote(note):\n",
      "    note = note_store.getNote(note.guid, True, False, False, False)\n",
      "    print(note.title)\n",
      "    if note.resources:\n",
      "        for res in note.resources:\n",
      "            print(res.mime)\n",
      "            a = note_store.getResourceData(res.guid)\n",
      "            print(len(a))"
     ],
     "language": "python",
     "metadata": {},
     "outputs": [],
     "prompt_number": 75
    },
    {
     "cell_type": "code",
     "collapsed": false,
     "input": [
      "if server_status.updateCount > local_status.updateCount:\n",
      "    chunk = note_store.getFilteredSyncChunk(0, 2, chunk_filter)\n",
      "    for note in chunk.notes:\n",
      "        if type(note.deleted) != int:\n",
      "            print(type(note.deleted))\n",
      "            print(note.title)\n",
      "            updateLocalNote(note)\n",
      "    while chunk.chunkHighUSN < chunk.updateCount:\n",
      "        chunk = note_store.getFilteredSyncChunk(chunk.chunkHighUSN, 2, chunk_filter)\n",
      "        for note in chunk.notes:\n",
      "            if type(note.deleted) != int and note.updateSequenceNum < sys.maxint:\n",
      "                updateLocalNote(note)"
     ],
     "language": "python",
     "metadata": {},
     "outputs": [
      {
       "output_type": "stream",
       "stream": "stdout",
       "text": [
        "We need to know what aspect of community is most important to community's resist\n",
        "chassis"
       ]
      },
      {
       "output_type": "stream",
       "stream": "stdout",
       "text": [
        "\n",
        "\u548f\u767d\u6d77\u68e0"
       ]
      },
      {
       "output_type": "stream",
       "stream": "stdout",
       "text": [
        "\n",
        "Test note from EDAMTest.py"
       ]
      },
      {
       "output_type": "stream",
       "stream": "stdout",
       "text": [
        "\n",
        "image/png\n",
        "6035"
       ]
      },
      {
       "output_type": "stream",
       "stream": "stdout",
       "text": [
        "\n",
        "test1"
       ]
      },
      {
       "output_type": "stream",
       "stream": "stdout",
       "text": [
        "\n",
        "test2"
       ]
      },
      {
       "output_type": "stream",
       "stream": "stdout",
       "text": [
        "\n"
       ]
      }
     ],
     "prompt_number": 80
    },
    {
     "cell_type": "code",
     "collapsed": false,
     "input": [
      "one = Types.Note(guid='abc')"
     ],
     "language": "python",
     "metadata": {},
     "outputs": [],
     "prompt_number": 83
    },
    {
     "cell_type": "code",
     "collapsed": false,
     "input": [
      "one"
     ],
     "language": "python",
     "metadata": {},
     "outputs": [
      {
       "output_type": "pyout",
       "prompt_number": 84,
       "text": [
        "Note(contentHash=None, updated=None, created=None, deleted=None, contentLength=None, title=None, notebookGuid=None, content=None, tagNames=None, updateSequenceNum=None, tagGuids=None, active=None, attributes=None, guid='abc', resources=None)"
       ]
      }
     ],
     "prompt_number": 84
    },
    {
     "cell_type": "code",
     "collapsed": false,
     "input": [],
     "language": "python",
     "metadata": {},
     "outputs": []
    }
   ],
   "metadata": {}
  }
 ]
}